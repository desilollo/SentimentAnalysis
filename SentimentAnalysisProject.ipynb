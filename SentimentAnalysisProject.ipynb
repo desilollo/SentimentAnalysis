{
 "cells": [
  {
   "cell_type": "markdown",
   "metadata": {},
   "source": [
    "# Machine Learning PROJECT\n",
    "### SENTIMENT ANALYSIS using CNN and RNN"
   ]
  },
  {
   "cell_type": "markdown",
   "metadata": {},
   "source": [
    "###### Sentiment analysis is a process used to analyze and classify text data. The classification is done as negative, positive, neutral, or other times just a binary classification, positive or negative, as in my case.After the classification, it is extracted also a few features of the expression as, for example:\n",
    "###### 1. Polarity (positive or negative)\n",
    "###### 2. Subject (what is talking about)\n",
    "###### 3. Opinion holder (who is talking)\n",
    "###### At the moment, Sentiment Analysis is one of the most interesting and developing topic, this is due to its young discover and the large number of applications it has. Different companies uses Sentiment Analysis to analyze the customer ideas about their new products or services, throught online reviews or twitters; in that way they can understand what they should change, if the product is good enough or not, and so on. The last field of Sentiment Analysis application is the prediction of the stock market, in fact, it has been noticed that the positive or negative opinions on economic articles or tweets about companies can make the shares on the stock exchange vary up or down.\n"
   ]
  },
  {
   "cell_type": "markdown",
   "metadata": {},
   "source": [
    "## Libraries Required"
   ]
  },
  {
   "cell_type": "code",
   "execution_count": 1,
   "metadata": {},
   "outputs": [
    {
     "name": "stderr",
     "output_type": "stream",
     "text": [
      "Using TensorFlow backend.\n"
     ]
    }
   ],
   "source": [
    "import pandas as pd\n",
    "import numpy as np\n",
    "import re\n",
    "import matplotlib.pyplot as plt\n",
    "\n",
    "\n",
    "from numpy import array\n",
    "from keras.preprocessing.sequence import pad_sequences\n",
    "from keras.models import Sequential\n",
    "from keras.layers.core import Activation, Dense\n",
    "from keras.layers import GlobalMaxPooling1D\n",
    "from keras.layers.embeddings import Embedding\n",
    "from sklearn.model_selection import train_test_split\n",
    "from keras.preprocessing.text import Tokenizer"
   ]
  },
  {
   "cell_type": "markdown",
   "metadata": {},
   "source": [
    "###### The files used for that project are bigger than 50MB, so I have paste here both links"
   ]
  },
  {
   "cell_type": "markdown",
   "metadata": {},
   "source": [
    "## Dataset used\n",
    "###### The dataset has 50.000 data and 2 columns: the first one contains text reviews and the second one the sentiment of the correspond review (negative or positive, not neutral). So my problem is a binary classification,  if it has also the neutral sentiment it should be possible to, after plotted the percentage of the three sentiments, delete it, because the neutral sentiment doesn't suggest us nothing about the audiance opinion.\n",
    "\n",
    "\n",
    "###### YOU CAN DOWNLOAD THE DATASET FROM THE FOLLOWING LINK:  https://www.kaggle.com/lakshmi25npathi/imdb-dataset-of-50k-movie-reviews"
   ]
  },
  {
   "cell_type": "code",
   "execution_count": 2,
   "metadata": {},
   "outputs": [],
   "source": [
    "movie_reviews = pd.read_csv(\"C:/Users/loren/Desktop/LSBU/MachineLearning/ProjectML/IMDB Dataset.csv/IMDB Dataset.csv\")"
   ]
  },
  {
   "cell_type": "markdown",
   "metadata": {},
   "source": [
    "## Dataset analysis"
   ]
  },
  {
   "cell_type": "code",
   "execution_count": 3,
   "metadata": {},
   "outputs": [
    {
     "data": {
      "text/plain": [
       "False"
      ]
     },
     "execution_count": 3,
     "metadata": {},
     "output_type": "execute_result"
    }
   ],
   "source": [
    "movie_reviews.isnull().values.any() #check if there are any null values"
   ]
  },
  {
   "cell_type": "code",
   "execution_count": 4,
   "metadata": {},
   "outputs": [
    {
     "data": {
      "text/plain": [
       "(50000, 2)"
      ]
     },
     "execution_count": 4,
     "metadata": {},
     "output_type": "execute_result"
    }
   ],
   "source": [
    "movie_reviews.shape "
   ]
  },
  {
   "cell_type": "code",
   "execution_count": 5,
   "metadata": {},
   "outputs": [
    {
     "data": {
      "text/html": [
       "<div>\n",
       "<style scoped>\n",
       "    .dataframe tbody tr th:only-of-type {\n",
       "        vertical-align: middle;\n",
       "    }\n",
       "\n",
       "    .dataframe tbody tr th {\n",
       "        vertical-align: top;\n",
       "    }\n",
       "\n",
       "    .dataframe thead th {\n",
       "        text-align: right;\n",
       "    }\n",
       "</style>\n",
       "<table border=\"1\" class=\"dataframe\">\n",
       "  <thead>\n",
       "    <tr style=\"text-align: right;\">\n",
       "      <th></th>\n",
       "      <th>review</th>\n",
       "      <th>sentiment</th>\n",
       "    </tr>\n",
       "  </thead>\n",
       "  <tbody>\n",
       "    <tr>\n",
       "      <td>0</td>\n",
       "      <td>One of the other reviewers has mentioned that ...</td>\n",
       "      <td>positive</td>\n",
       "    </tr>\n",
       "    <tr>\n",
       "      <td>1</td>\n",
       "      <td>A wonderful little production. &lt;br /&gt;&lt;br /&gt;The...</td>\n",
       "      <td>positive</td>\n",
       "    </tr>\n",
       "    <tr>\n",
       "      <td>2</td>\n",
       "      <td>I thought this was a wonderful way to spend ti...</td>\n",
       "      <td>positive</td>\n",
       "    </tr>\n",
       "    <tr>\n",
       "      <td>3</td>\n",
       "      <td>Basically there's a family where a little boy ...</td>\n",
       "      <td>negative</td>\n",
       "    </tr>\n",
       "    <tr>\n",
       "      <td>4</td>\n",
       "      <td>Petter Mattei's \"Love in the Time of Money\" is...</td>\n",
       "      <td>positive</td>\n",
       "    </tr>\n",
       "  </tbody>\n",
       "</table>\n",
       "</div>"
      ],
      "text/plain": [
       "                                              review sentiment\n",
       "0  One of the other reviewers has mentioned that ...  positive\n",
       "1  A wonderful little production. <br /><br />The...  positive\n",
       "2  I thought this was a wonderful way to spend ti...  positive\n",
       "3  Basically there's a family where a little boy ...  negative\n",
       "4  Petter Mattei's \"Love in the Time of Money\" is...  positive"
      ]
     },
     "execution_count": 5,
     "metadata": {},
     "output_type": "execute_result"
    }
   ],
   "source": [
    "movie_reviews.head() "
   ]
  },
  {
   "cell_type": "code",
   "execution_count": 6,
   "metadata": {},
   "outputs": [
    {
     "data": {
      "text/plain": [
       "'Phil the Alien is one of those quirky films where the humour is based around the oddness of everything rather than actual punchlines.<br /><br />At first it was very odd and pretty funny but as the movie progressed I didn\\'t find the jokes or oddness funny anymore.<br /><br />Its a low budget film (thats never a problem in itself), there were some pretty interesting characters, but eventually I just lost interest.<br /><br />I imagine this film would appeal to a stoner who is currently partaking.<br /><br />For something similar but better try \"Brother from another planet\"'"
      ]
     },
     "execution_count": 6,
     "metadata": {},
     "output_type": "execute_result"
    }
   ],
   "source": [
    "movie_reviews['review'][10]"
   ]
  },
  {
   "cell_type": "code",
   "execution_count": 7,
   "metadata": {},
   "outputs": [
    {
     "data": {
      "text/plain": [
       "'negative'"
      ]
     },
     "execution_count": 7,
     "metadata": {},
     "output_type": "execute_result"
    }
   ],
   "source": [
    "movie_reviews['sentiment'][10]"
   ]
  },
  {
   "cell_type": "markdown",
   "metadata": {},
   "source": [
    "### Dataset visualization"
   ]
  },
  {
   "cell_type": "code",
   "execution_count": 8,
   "metadata": {},
   "outputs": [
    {
     "data": {
      "image/png": "[encoded data removed]",
      "text/plain": [
       "<Figure size 432x288 with 1 Axes>"
      ]
     },
     "metadata": {
      "needs_background": "light"
     },
     "output_type": "display_data"
    }
   ],
   "source": [
    "import seaborn as sns\n",
    "sns.countplot(x='sentiment', data=movie_reviews, palette='RdBu_r')\n",
    "plt.show()\n",
    "#same number of positive and negative reviews, 25.000 each"
   ]
  },
  {
   "cell_type": "markdown",
   "metadata": {},
   "source": [
    "## Data preprocessing "
   ]
  },
  {
   "cell_type": "markdown",
   "metadata": {},
   "source": [
    "###### How seen before, the reviews text is not clean, it contains punctuations and HTML tags, for that reason I have to clean it in some way. I have defined teh function clean_text that takes a a string (our review) as parameter and then remove all the characters that I don't need."
   ]
  },
  {
   "cell_type": "code",
   "execution_count": 9,
   "metadata": {},
   "outputs": [],
   "source": [
    "rem_tags = re.compile(r'<[^>]+>')   \n",
    "# We can combine a regular expression pattern into pattern objects, which can be used for pattern matching. It also helps to search a pattern again without rewriting it.\n",
    "\n",
    "def remove_tags(text):\n",
    "    return rem_tags.sub('', text)"
   ]
  },
  {
   "cell_type": "code",
   "execution_count": 10,
   "metadata": {},
   "outputs": [],
   "source": [
    "def clean_text(phrase):\n",
    "    # Removing html tags\n",
    "    sentence = remove_tags(phrase) # replaces anything between opening and closing <> with an empty space\n",
    "\n",
    "    # Remove punctuations and numbers and replace with empty spaces\n",
    "    sentence = re.sub('[^a-zA-Z]', ' ', sentence) #the only things that are not removed here are the small and capital english letters\n",
    "\n",
    "    # Remove single character and repleace with empty spaces\n",
    "    sentence = re.sub(r\"\\s+[a-zA-Z]\\s+\", ' ', sentence) \n",
    "\n",
    "    # Removing multiple spaces\n",
    "    sentence = re.sub(r'\\s+', ' ', sentence)\n",
    "\n",
    "    return sentence"
   ]
  },
  {
   "cell_type": "markdown",
   "metadata": {},
   "source": [
    "###### Once preprocess our reviews, those will be store in a new list"
   ]
  },
  {
   "cell_type": "code",
   "execution_count": 11,
   "metadata": {},
   "outputs": [],
   "source": [
    "X = []\n",
    "sentences = list(movie_reviews['review'])\n",
    "for phrase in sentences:\n",
    "    X.append(clean_text(phrase))"
   ]
  },
  {
   "cell_type": "code",
   "execution_count": 12,
   "metadata": {},
   "outputs": [
    {
     "data": {
      "text/plain": [
       "'Phil the Alien is one of those quirky films where the humour is based around the oddness of everything rather than actual punchlines At first it was very odd and pretty funny but as the movie progressed didn find the jokes or oddness funny anymore Its low budget film thats never problem in itself there were some pretty interesting characters but eventually just lost interest imagine this film would appeal to stoner who is currently partaking For something similar but better try Brother from another planet '"
      ]
     },
     "execution_count": 12,
     "metadata": {},
     "output_type": "execute_result"
    }
   ],
   "source": [
    "X[10] #same review of before, but now it is clean"
   ]
  },
  {
   "cell_type": "markdown",
   "metadata": {},
   "source": [
    "###### At that point, I have to change the sentiment in digits, we have just pos and neg sentiments, so I can convert those in 1 if positive and 0 if negative."
   ]
  },
  {
   "cell_type": "code",
   "execution_count": 13,
   "metadata": {},
   "outputs": [],
   "source": [
    "y = movie_reviews['sentiment']\n",
    "y = np.array(list(map(lambda x: 1 if x==\"positive\" else 0, y))) "
   ]
  },
  {
   "cell_type": "code",
   "execution_count": 14,
   "metadata": {},
   "outputs": [
    {
     "data": {
      "text/plain": [
       "0"
      ]
     },
     "execution_count": 14,
     "metadata": {},
     "output_type": "execute_result"
    }
   ],
   "source": [
    "y[10] #the review 10 is negative as before"
   ]
  },
  {
   "cell_type": "code",
   "execution_count": 15,
   "metadata": {},
   "outputs": [],
   "source": [
    "X_train, X_test, y_train, y_test = train_test_split(X, y, test_size=0.20) #80% training, 20% test"
   ]
  },
  {
   "cell_type": "markdown",
   "metadata": {},
   "source": [
    "### Preparing Embedding layer"
   ]
  },
  {
   "cell_type": "markdown",
   "metadata": {},
   "source": [
    "###### I have used the Tokenizer class to create a word-to-index dictionary. In the word-to-index dictionary, each word in the corpus is used as a key, while a corresponding unique index is used as the value for the key."
   ]
  },
  {
   "cell_type": "code",
   "execution_count": 16,
   "metadata": {},
   "outputs": [],
   "source": [
    "from keras.preprocessing.text import Tokenizer\n",
    "\n",
    "tokenizer = Tokenizer(num_words=90000)\n",
    "tokenizer.fit_on_texts(X_train)\n",
    "\n",
    "X_train = tokenizer.texts_to_sequences(X_train) #transform each text in texts in a sequence of integers \n",
    "X_test = tokenizer.texts_to_sequences(X_test)"
   ]
  },
  {
   "cell_type": "markdown",
   "metadata": {},
   "source": [
    "###### The X_train and X_test were trasformed in lists where each of them contains integers. Each list corresponds to each sentence in the training set, and each size list is different from the other, the reason is that each review has different lenghts."
   ]
  },
  {
   "cell_type": "code",
   "execution_count": 17,
   "metadata": {
    "scrolled": true
   },
   "outputs": [
    {
     "data": {
      "text/plain": [
       "[[10,\n",
       "  1,\n",
       "  919,\n",
       "  3,\n",
       "  1,\n",
       "  8840,\n",
       "  9,\n",
       "  286,\n",
       "  193,\n",
       "  2450,\n",
       "  1808,\n",
       "  2,\n",
       "  1964,\n",
       "  2961,\n",
       "  2550,\n",
       "  7,\n",
       "  102,\n",
       "  2846,\n",
       "  552,\n",
       "  1243,\n",
       "  16,\n",
       "  1,\n",
       "  1089,\n",
       "  13764,\n",
       "  10,\n",
       "  999,\n",
       "  29,\n",
       "  1,\n",
       "  4082,\n",
       "  1226,\n",
       "  3,\n",
       "  1,\n",
       "  1243,\n",
       "  101,\n",
       "  134,\n",
       "  1,\n",
       "  304,\n",
       "  106,\n",
       "  130,\n",
       "  106,\n",
       "  171,\n",
       "  10,\n",
       "  999,\n",
       "  35672,\n",
       "  29,\n",
       "  533,\n",
       "  1528,\n",
       "  29,\n",
       "  1618,\n",
       "  28227,\n",
       "  31,\n",
       "  1411,\n",
       "  1,\n",
       "  16,\n",
       "  2540,\n",
       "  4,\n",
       "  12015,\n",
       "  1214,\n",
       "  186,\n",
       "  5,\n",
       "  1,\n",
       "  12016,\n",
       "  16,\n",
       "  9,\n",
       "  5,\n",
       "  122,\n",
       "  448,\n",
       "  1,\n",
       "  581,\n",
       "  3238,\n",
       "  3,\n",
       "  2,\n",
       "  1,\n",
       "  191,\n",
       "  9,\n",
       "  106,\n",
       "  130,\n",
       "  106,\n",
       "  171,\n",
       "  5,\n",
       "  993,\n",
       "  3,\n",
       "  12015,\n",
       "  106,\n",
       "  130,\n",
       "  106,\n",
       "  171,\n",
       "  42,\n",
       "  1,\n",
       "  7128,\n",
       "  3,\n",
       "  6697,\n",
       "  24,\n",
       "  3,\n",
       "  1,\n",
       "  112,\n",
       "  5572,\n",
       "  118,\n",
       "  6820,\n",
       "  13,\n",
       "  1243,\n",
       "  16,\n",
       "  6,\n",
       "  26,\n",
       "  528,\n",
       "  14,\n",
       "  1964,\n",
       "  2961,\n",
       "  3364,\n",
       "  4,\n",
       "  1,\n",
       "  283,\n",
       "  1243,\n",
       "  13,\n",
       "  1,\n",
       "  84,\n",
       "  53,\n",
       "  231,\n",
       "  7441,\n",
       "  21,\n",
       "  1363,\n",
       "  2961,\n",
       "  227,\n",
       "  25,\n",
       "  931,\n",
       "  89,\n",
       "  20,\n",
       "  10,\n",
       "  89,\n",
       "  15,\n",
       "  20,\n",
       "  290,\n",
       "  122,\n",
       "  125,\n",
       "  89,\n",
       "  20,\n",
       "  113,\n",
       "  7,\n",
       "  7441,\n",
       "  21,\n",
       "  1363,\n",
       "  1,\n",
       "  1243,\n",
       "  3,\n",
       "  106,\n",
       "  130,\n",
       "  106,\n",
       "  171,\n",
       "  5,\n",
       "  1,\n",
       "  17189,\n",
       "  2,\n",
       "  1725,\n",
       "  3190,\n",
       "  3,\n",
       "  768,\n",
       "  52,\n",
       "  36,\n",
       "  33,\n",
       "  3477,\n",
       "  14,\n",
       "  107,\n",
       "  37,\n",
       "  169,\n",
       "  153,\n",
       "  931,\n",
       "  2961,\n",
       "  2650,\n",
       "  3,\n",
       "  24,\n",
       "  2359,\n",
       "  2,\n",
       "  409,\n",
       "  5,\n",
       "  11,\n",
       "  339,\n",
       "  18,\n",
       "  11,\n",
       "  6,\n",
       "  118,\n",
       "  10,\n",
       "  1,\n",
       "  24,\n",
       "  9562,\n",
       "  4,\n",
       "  2961,\n",
       "  566,\n",
       "  5,\n",
       "  22,\n",
       "  6882,\n",
       "  255,\n",
       "  48,\n",
       "  6,\n",
       "  265,\n",
       "  4,\n",
       "  1,\n",
       "  2072,\n",
       "  3,\n",
       "  1,\n",
       "  16,\n",
       "  267,\n",
       "  386,\n",
       "  6,\n",
       "  55,\n",
       "  2961,\n",
       "  448,\n",
       "  105,\n",
       "  7,\n",
       "  334,\n",
       "  1678,\n",
       "  3055,\n",
       "  290,\n",
       "  11,\n",
       "  991,\n",
       "  11,\n",
       "  1808,\n",
       "  48,\n",
       "  20,\n",
       "  5,\n",
       "  30250,\n",
       "  352,\n",
       "  301,\n",
       "  22,\n",
       "  566,\n",
       "  237,\n",
       "  448,\n",
       "  8,\n",
       "  6882,\n",
       "  1706,\n",
       "  106,\n",
       "  130,\n",
       "  106,\n",
       "  171,\n",
       "  268,\n",
       "  2961,\n",
       "  7,\n",
       "  24,\n",
       "  3,\n",
       "  22,\n",
       "  122,\n",
       "  1243,\n",
       "  362,\n",
       "  2,\n",
       "  3530,\n",
       "  4785,\n",
       "  18,\n",
       "  22,\n",
       "  102,\n",
       "  933,\n",
       "  1243,\n",
       "  362,\n",
       "  2551,\n",
       "  16756,\n",
       "  296,\n",
       "  5942,\n",
       "  7,\n",
       "  24,\n",
       "  3,\n",
       "  38,\n",
       "  396,\n",
       "  16,\n",
       "  567,\n",
       "  16756,\n",
       "  296,\n",
       "  1,\n",
       "  210,\n",
       "  14,\n",
       "  4271,\n",
       "  4858,\n",
       "  13,\n",
       "  3884,\n",
       "  6658,\n",
       "  2,\n",
       "  50,\n",
       "  163,\n",
       "  1,\n",
       "  100,\n",
       "  814,\n",
       "  16756,\n",
       "  1689,\n",
       "  38,\n",
       "  200,\n",
       "  441,\n",
       "  38,\n",
       "  1019,\n",
       "  401,\n",
       "  2,\n",
       "  42,\n",
       "  4271,\n",
       "  1187,\n",
       "  14,\n",
       "  87,\n",
       "  11,\n",
       "  66,\n",
       "  7,\n",
       "  191,\n",
       "  50,\n",
       "  195,\n",
       "  66,\n",
       "  23871,\n",
       "  38,\n",
       "  12015,\n",
       "  4859,\n",
       "  172,\n",
       "  249,\n",
       "  29,\n",
       "  15888,\n",
       "  39933,\n",
       "  89,\n",
       "  35,\n",
       "  1,\n",
       "  1000,\n",
       "  19446,\n",
       "  10372,\n",
       "  249,\n",
       "  29,\n",
       "  8938,\n",
       "  2972,\n",
       "  14098,\n",
       "  14098,\n",
       "  10372,\n",
       "  5,\n",
       "  262,\n",
       "  552,\n",
       "  1243,\n",
       "  16,\n",
       "  1000,\n",
       "  139,\n",
       "  25,\n",
       "  8173,\n",
       "  1319,\n",
       "  460,\n",
       "  2,\n",
       "  711,\n",
       "  26,\n",
       "  814,\n",
       "  598,\n",
       "  1,\n",
       "  340,\n",
       "  14098,\n",
       "  163,\n",
       "  1,\n",
       "  210,\n",
       "  763,\n",
       "  2,\n",
       "  5082,\n",
       "  19,\n",
       "  4,\n",
       "  764,\n",
       "  79,\n",
       "  1,\n",
       "  3036,\n",
       "  103,\n",
       "  73,\n",
       "  1243,\n",
       "  1928,\n",
       "  23,\n",
       "  2954,\n",
       "  79,\n",
       "  29,\n",
       "  166,\n",
       "  117,\n",
       "  1,\n",
       "  334,\n",
       "  14098,\n",
       "  296,\n",
       "  10372,\n",
       "  14,\n",
       "  1257,\n",
       "  4166,\n",
       "  2,\n",
       "  3354,\n",
       "  5113,\n",
       "  7,\n",
       "  103,\n",
       "  15136,\n",
       "  3,\n",
       "  1,\n",
       "  316,\n",
       "  174,\n",
       "  14099,\n",
       "  79,\n",
       "  1,\n",
       "  730,\n",
       "  174,\n",
       "  11,\n",
       "  66,\n",
       "  2034,\n",
       "  13463,\n",
       "  163,\n",
       "  481,\n",
       "  28228,\n",
       "  7,\n",
       "  14743,\n",
       "  14394,\n",
       "  2,\n",
       "  1,\n",
       "  251,\n",
       "  2639,\n",
       "  51,\n",
       "  48,\n",
       "  50,\n",
       "  704,\n",
       "  1903,\n",
       "  2793,\n",
       "  8099,\n",
       "  328,\n",
       "  1258,\n",
       "  11,\n",
       "  26528,\n",
       "  154,\n",
       "  22,\n",
       "  1258,\n",
       "  5,\n",
       "  47,\n",
       "  5653,\n",
       "  4,\n",
       "  1990,\n",
       "  10233,\n",
       "  12017,\n",
       "  163,\n",
       "  30,\n",
       "  1258,\n",
       "  11,\n",
       "  1243,\n",
       "  4714,\n",
       "  2794,\n",
       "  9,\n",
       "  163,\n",
       "  13,\n",
       "  44,\n",
       "  3,\n",
       "  1,\n",
       "  112,\n",
       "  132,\n",
       "  7,\n",
       "  1,\n",
       "  16,\n",
       "  14,\n",
       "  26,\n",
       "  9,\n",
       "  1,\n",
       "  2651,\n",
       "  3,\n",
       "  1,\n",
       "  730,\n",
       "  174,\n",
       "  265,\n",
       "  33,\n",
       "  1,\n",
       "  7056,\n",
       "  3430,\n",
       "  33,\n",
       "  2303,\n",
       "  1596,\n",
       "  146,\n",
       "  31,\n",
       "  163,\n",
       "  13,\n",
       "  78,\n",
       "  2168,\n",
       "  4,\n",
       "  5064,\n",
       "  859,\n",
       "  6375,\n",
       "  11574,\n",
       "  31,\n",
       "  90,\n",
       "  57105,\n",
       "  32683,\n",
       "  2,\n",
       "  1,\n",
       "  13200,\n",
       "  18,\n",
       "  1,\n",
       "  4548,\n",
       "  14,\n",
       "  5234,\n",
       "  35673,\n",
       "  383,\n",
       "  1,\n",
       "  730,\n",
       "  174,\n",
       "  42,\n",
       "  359,\n",
       "  3,\n",
       "  20932,\n",
       "  154,\n",
       "  7,\n",
       "  1,\n",
       "  792,\n",
       "  3,\n",
       "  11383,\n",
       "  5450,\n",
       "  11,\n",
       "  3957,\n",
       "  26529,\n",
       "  2,\n",
       "  14744,\n",
       "  21815,\n",
       "  11,\n",
       "  621,\n",
       "  28229,\n",
       "  31,\n",
       "  193,\n",
       "  306,\n",
       "  4,\n",
       "  564,\n",
       "  2888,\n",
       "  7,\n",
       "  62,\n",
       "  5181,\n",
       "  567,\n",
       "  887,\n",
       "  8,\n",
       "  16,\n",
       "  2286,\n",
       "  24,\n",
       "  3,\n",
       "  1,\n",
       "  112,\n",
       "  5572,\n",
       "  118,\n",
       "  6820,\n",
       "  13,\n",
       "  1243,\n",
       "  16,\n",
       "  18,\n",
       "  334,\n",
       "  3,\n",
       "  30,\n",
       "  316,\n",
       "  174,\n",
       "  1,\n",
       "  16,\n",
       "  42,\n",
       "  433,\n",
       "  73,\n",
       "  3411,\n",
       "  4509,\n",
       "  33,\n",
       "  1,\n",
       "  599,\n",
       "  1366,\n",
       "  823,\n",
       "  701,\n",
       "  4,\n",
       "  1,\n",
       "  536,\n",
       "  27,\n",
       "  39934,\n",
       "  4,\n",
       "  1,\n",
       "  5114,\n",
       "  844,\n",
       "  2,\n",
       "  15483,\n",
       "  1234,\n",
       "  8,\n",
       "  5,\n",
       "  16,\n",
       "  114,\n",
       "  1,\n",
       "  204,\n",
       "  844,\n",
       "  21,\n",
       "  19,\n",
       "  58,\n",
       "  78,\n",
       "  15,\n",
       "  2249,\n",
       "  1,\n",
       "  109,\n",
       "  11,\n",
       "  66,\n",
       "  13,\n",
       "  1,\n",
       "  85,\n",
       "  172,\n",
       "  1,\n",
       "  16,\n",
       "  77,\n",
       "  2286,\n",
       "  45,\n",
       "  302,\n",
       "  280,\n",
       "  7,\n",
       "  1283,\n",
       "  3,\n",
       "  3885,\n",
       "  6997,\n",
       "  3795,\n",
       "  3399,\n",
       "  2,\n",
       "  26,\n",
       "  1,\n",
       "  178,\n",
       "  65,\n",
       "  520,\n",
       "  33,\n",
       "  1243,\n",
       "  16,\n",
       "  15889,\n",
       "  15890,\n",
       "  89,\n",
       "  1381,\n",
       "  119,\n",
       "  395,\n",
       "  1,\n",
       "  3748,\n",
       "  3849,\n",
       "  140,\n",
       "  948,\n",
       "  2476,\n",
       "  282,\n",
       "  3,\n",
       "  452,\n",
       "  4,\n",
       "  1,\n",
       "  16,\n",
       "  255,\n",
       "  7,\n",
       "  844,\n",
       "  34,\n",
       "  1,\n",
       "  46174,\n",
       "  3,\n",
       "  2619,\n",
       "  25113,\n",
       "  2,\n",
       "  1,\n",
       "  3692,\n",
       "  7673,\n",
       "  3,\n",
       "  1,\n",
       "  3885,\n",
       "  9563,\n",
       "  237,\n",
       "  8,\n",
       "  16,\n",
       "  5,\n",
       "  220,\n",
       "  33,\n",
       "  393,\n",
       "  106,\n",
       "  130,\n",
       "  106,\n",
       "  171,\n",
       "  5,\n",
       "  741,\n",
       "  24,\n",
       "  3,\n",
       "  1,\n",
       "  85,\n",
       "  2044,\n",
       "  3,\n",
       "  1,\n",
       "  1243,\n",
       "  101,\n",
       "  14,\n",
       "  88,\n",
       "  1217,\n",
       "  351,\n",
       "  3,\n",
       "  1284,\n",
       "  5360,\n",
       "  363,\n",
       "  1603,\n",
       "  134,\n",
       "  2170,\n",
       "  5207,\n",
       "  95,\n",
       "  16,\n",
       "  96,\n",
       "  53,\n",
       "  8,\n",
       "  16,\n",
       "  1217,\n",
       "  11575,\n",
       "  18,\n",
       "  6,\n",
       "  255,\n",
       "  7,\n",
       "  1,\n",
       "  20186,\n",
       "  3,\n",
       "  1,\n",
       "  3885,\n",
       "  9563,\n",
       "  2,\n",
       "  1,\n",
       "  10234,\n",
       "  701,\n",
       "  163,\n",
       "  1,\n",
       "  16,\n",
       "  162,\n",
       "  923,\n",
       "  2044,\n",
       "  44,\n",
       "  5985,\n",
       "  3,\n",
       "  1039,\n",
       "  96,\n",
       "  88,\n",
       "  713,\n",
       "  1,\n",
       "  226,\n",
       "  77,\n",
       "  4229,\n",
       "  4,\n",
       "  2671,\n",
       "  33,\n",
       "  9043,\n",
       "  676,\n",
       "  4,\n",
       "  1,\n",
       "  49,\n",
       "  191,\n",
       "  6,\n",
       "  126,\n",
       "  993,\n",
       "  3,\n",
       "  12015,\n",
       "  237,\n",
       "  13,\n",
       "  88,\n",
       "  9043,\n",
       "  1,\n",
       "  226,\n",
       "  13,\n",
       "  106,\n",
       "  130,\n",
       "  106,\n",
       "  171,\n",
       "  5,\n",
       "  176,\n",
       "  45,\n",
       "  1,\n",
       "  226,\n",
       "  2286,\n",
       "  45,\n",
       "  409,\n",
       "  132,\n",
       "  19,\n",
       "  668,\n",
       "  3457,\n",
       "  1370,\n",
       "  24,\n",
       "  8455,\n",
       "  80,\n",
       "  103,\n",
       "  3,\n",
       "  1,\n",
       "  2450,\n",
       "  1808,\n",
       "  977,\n",
       "  3004,\n",
       "  46,\n",
       "  17,\n",
       "  130,\n",
       "  9,\n",
       "  39,\n",
       "  44,\n",
       "  1896,\n",
       "  1129,\n",
       "  2,\n",
       "  237,\n",
       "  5,\n",
       "  1716,\n",
       "  2,\n",
       "  2955,\n",
       "  13,\n",
       "  1,\n",
       "  85,\n",
       "  172,\n",
       "  273,\n",
       "  17,\n",
       "  162,\n",
       "  491,\n",
       "  20,\n",
       "  191,\n",
       "  9,\n",
       "  6,\n",
       "  126,\n",
       "  993,\n",
       "  35,\n",
       "  179,\n",
       "  168,\n",
       "  3,\n",
       "  45,\n",
       "  178,\n",
       "  7,\n",
       "  1,\n",
       "  226,\n",
       "  13,\n",
       "  1,\n",
       "  16,\n",
       "  203,\n",
       "  5,\n",
       "  7,\n",
       "  191,\n",
       "  1,\n",
       "  1100,\n",
       "  5361,\n",
       "  3,\n",
       "  1,\n",
       "  16,\n",
       "  676,\n",
       "  4,\n",
       "  1,\n",
       "  12016,\n",
       "  2570,\n",
       "  3,\n",
       "  1,\n",
       "  16,\n",
       "  1,\n",
       "  552,\n",
       "  1243,\n",
       "  749,\n",
       "  92,\n",
       "  19,\n",
       "  25,\n",
       "  324,\n",
       "  9,\n",
       "  297,\n",
       "  8,\n",
       "  92,\n",
       "  23,\n",
       "  587,\n",
       "  14,\n",
       "  1,\n",
       "  196,\n",
       "  4549,\n",
       "  9,\n",
       "  1243,\n",
       "  557,\n",
       "  205,\n",
       "  6,\n",
       "  92,\n",
       "  159,\n",
       "  468,\n",
       "  493,\n",
       "  21816,\n",
       "  557,\n",
       "  5,\n",
       "  220,\n",
       "  33,\n",
       "  4230,\n",
       "  21816,\n",
       "  557,\n",
       "  5,\n",
       "  456,\n",
       "  40,\n",
       "  3,\n",
       "  270,\n",
       "  7,\n",
       "  1243,\n",
       "  16,\n",
       "  2,\n",
       "  35,\n",
       "  5,\n",
       "  58,\n",
       "  3,\n",
       "  36,\n",
       "  102,\n",
       "  1349,\n",
       "  114,\n",
       "  6,\n",
       "  160,\n",
       "  482,\n",
       "  4,\n",
       "  90,\n",
       "  2265,\n",
       "  422,\n",
       "  1,\n",
       "  16,\n",
       "  5,\n",
       "  77,\n",
       "  26530,\n",
       "  14,\n",
       "  24,\n",
       "  3,\n",
       "  1,\n",
       "  244,\n",
       "  415,\n",
       "  844,\n",
       "  118,\n",
       "  4,\n",
       "  1460,\n",
       "  552,\n",
       "  1243,\n",
       "  16,\n",
       "  448,\n",
       "  105,\n",
       "  2683,\n",
       "  2044,\n",
       "  651,\n",
       "  28230,\n",
       "  2,\n",
       "  258,\n",
       "  71,\n",
       "  557,\n",
       "  106,\n",
       "  130,\n",
       "  106,\n",
       "  171,\n",
       "  5,\n",
       "  129,\n",
       "  45,\n",
       "  1243,\n",
       "  16,\n",
       "  14,\n",
       "  24,\n",
       "  3,\n",
       "  1,\n",
       "  112,\n",
       "  5572,\n",
       "  3,\n",
       "  95,\n",
       "  1243,\n",
       "  16,\n",
       "  45,\n",
       "  204,\n",
       "  844,\n",
       "  45,\n",
       "  302,\n",
       "  280,\n",
       "  45,\n",
       "  452,\n",
       "  2,\n",
       "  44,\n",
       "  1293,\n",
       "  409,\n",
       "  8,\n",
       "  16,\n",
       "  1626,\n",
       "  9,\n",
       "  12016,\n",
       "  209,\n",
       "  126,\n",
       "  71,\n",
       "  145,\n",
       "  7,\n",
       "  191,\n",
       "  6,\n",
       "  5,\n",
       "  5,\n",
       "  122,\n",
       "  89,\n",
       "  13764,\n",
       "  2,\n",
       "  1,\n",
       "  2184,\n",
       "  3,\n",
       "  1,\n",
       "  919,\n",
       "  3,\n",
       "  1,\n",
       "  8840],\n",
       " [8,\n",
       "  12,\n",
       "  5,\n",
       "  330,\n",
       "  627,\n",
       "  19,\n",
       "  58,\n",
       "  5,\n",
       "  1,\n",
       "  109,\n",
       "  2730,\n",
       "  15,\n",
       "  1,\n",
       "  111,\n",
       "  5,\n",
       "  3512,\n",
       "  1,\n",
       "  302,\n",
       "  280,\n",
       "  21,\n",
       "  12924,\n",
       "  2,\n",
       "  1,\n",
       "  444,\n",
       "  12,\n",
       "  5,\n",
       "  271,\n",
       "  7,\n",
       "  1093,\n",
       "  6085,\n",
       "  1726,\n",
       "  237,\n",
       "  6,\n",
       "  5,\n",
       "  29,\n",
       "  220,\n",
       "  1,\n",
       "  85,\n",
       "  1115,\n",
       "  12,\n",
       "  118,\n",
       "  350,\n",
       "  10523,\n",
       "  4,\n",
       "  25,\n",
       "  999,\n",
       "  6,\n",
       "  5,\n",
       "  223,\n",
       "  3,\n",
       "  900,\n",
       "  676,\n",
       "  4,\n",
       "  1,\n",
       "  191,\n",
       "  9,\n",
       "  65,\n",
       "  26,\n",
       "  115,\n",
       "  35,\n",
       "  74,\n",
       "  25,\n",
       "  52,\n",
       "  6556,\n",
       "  7,\n",
       "  1,\n",
       "  286,\n",
       "  36,\n",
       "  95,\n",
       "  4550,\n",
       "  46175,\n",
       "  35,\n",
       "  21,\n",
       "  77,\n",
       "  73,\n",
       "  1369,\n",
       "  57,\n",
       "  74,\n",
       "  19,\n",
       "  2348,\n",
       "  37,\n",
       "  82,\n",
       "  28,\n",
       "  21,\n",
       "  43,\n",
       "  163,\n",
       "  1,\n",
       "  94,\n",
       "  32,\n",
       "  1720,\n",
       "  5290,\n",
       "  541,\n",
       "  372,\n",
       "  8,\n",
       "  12,\n",
       "  37,\n",
       "  82,\n",
       "  3,\n",
       "  88,\n",
       "  2060,\n",
       "  9954,\n",
       "  23,\n",
       "  52,\n",
       "  315,\n",
       "  31,\n",
       "  56,\n",
       "  99,\n",
       "  8,\n",
       "  1009,\n",
       "  6,\n",
       "  4,\n",
       "  25,\n",
       "  295,\n",
       "  464,\n",
       "  759,\n",
       "  15,\n",
       "  41,\n",
       "  45,\n",
       "  417,\n",
       "  5,\n",
       "  43,\n",
       "  17,\n",
       "  357,\n",
       "  99,\n",
       "  23872,\n",
       "  3,\n",
       "  1,\n",
       "  286]]"
      ]
     },
     "execution_count": 17,
     "metadata": {},
     "output_type": "execute_result"
    }
   ],
   "source": [
    "X_train[0:2] #first two lists "
   ]
  },
  {
   "cell_type": "code",
   "execution_count": 18,
   "metadata": {},
   "outputs": [
    {
     "name": "stdout",
     "output_type": "stream",
     "text": [
      "False\n"
     ]
    }
   ],
   "source": [
    "if len(X_train[0])==len(X_test[0]):\n",
    "    print(True)\n",
    "else:\n",
    "    print(False)"
   ]
  },
  {
   "cell_type": "code",
   "execution_count": 19,
   "metadata": {},
   "outputs": [
    {
     "data": {
      "text/plain": [
       "40000"
      ]
     },
     "execution_count": 19,
     "metadata": {},
     "output_type": "execute_result"
    }
   ],
   "source": [
    "len(X_train)"
   ]
  },
  {
   "cell_type": "code",
   "execution_count": 20,
   "metadata": {},
   "outputs": [
    {
     "data": {
      "text/plain": [
       "960"
      ]
     },
     "execution_count": 20,
     "metadata": {},
     "output_type": "execute_result"
    }
   ],
   "source": [
    "len(X_train[0])"
   ]
  },
  {
   "cell_type": "code",
   "execution_count": 21,
   "metadata": {},
   "outputs": [
    {
     "data": {
      "text/plain": [
       "167"
      ]
     },
     "execution_count": 21,
     "metadata": {},
     "output_type": "execute_result"
    }
   ],
   "source": [
    "len(X_test[0])"
   ]
  },
  {
   "cell_type": "markdown",
   "metadata": {},
   "source": [
    "###### Now there is the necessity to have the lists all of the same lenght, so the lists with size greater than the max lenght decided will be truncated to that value. Instead for the lists that have length less than that value, it will be add 0 at the end of the list until it reaches the max length. This process is called padding.\n",
    "##### Initially I have used as maxlen=100, but I have noticed how, after differents trials on the CNN, the model didn't improve more than 75%, so I have decided to change in it the max lenght value, and I have computed the 'optimal' value as the avarege of all the  reviews lenght. This action has improved the test accuracy of my model over the 80%."
   ]
  },
  {
   "cell_type": "code",
   "execution_count": 22,
   "metadata": {},
   "outputs": [],
   "source": [
    "# Adding 1 because of reserved 0 index\n",
    "vocab_size = len(tokenizer.word_index) + 1\n",
    "\n",
    "a=0\n",
    "b=0\n",
    "c=0\n",
    "d=0\n",
    "\n",
    "for i in X_train:\n",
    "    a=a+int(len(i))\n",
    "    b=b+1\n",
    "for i in X_test: \n",
    "    c=c+int(len(i))\n",
    "    d=d+1\n",
    "    \n",
    "z=a+c\n",
    "w=b+d\n",
    "\n",
    "avglen= z//w\n",
    "avglen\n",
    "\n",
    "X_train1 = pad_sequences(X_train, padding='post', maxlen=avglen)\n",
    "X_test1 = pad_sequences(X_test, padding='post', maxlen=avglen)"
   ]
  },
  {
   "cell_type": "markdown",
   "metadata": {},
   "source": [
    "###### Instead in the LSTM model I was not able to use as value 208, because it slowed too much the model (more than 30 minutes after 6 epochs), without reaches any better results."
   ]
  },
  {
   "cell_type": "code",
   "execution_count": 23,
   "metadata": {},
   "outputs": [],
   "source": [
    "maxlen=100\n",
    "\n",
    "X_train = pad_sequences(X_train, padding='post', maxlen=maxlen)\n",
    "X_test = pad_sequences(X_test, padding='post', maxlen=maxlen)"
   ]
  },
  {
   "cell_type": "markdown",
   "metadata": {},
   "source": [
    "###### Now if you view the X_train or X_test, you will see that all the lists have same length."
   ]
  },
  {
   "cell_type": "code",
   "execution_count": 24,
   "metadata": {},
   "outputs": [
    {
     "name": "stdout",
     "output_type": "stream",
     "text": [
      "True\n"
     ]
    }
   ],
   "source": [
    "if len(X_train[0])==len(X_test[0]):\n",
    "    print(True)\n",
    "else:\n",
    "    print(False)"
   ]
  },
  {
   "cell_type": "code",
   "execution_count": 25,
   "metadata": {},
   "outputs": [
    {
     "data": {
      "text/plain": [
       "100"
      ]
     },
     "execution_count": 25,
     "metadata": {},
     "output_type": "execute_result"
    }
   ],
   "source": [
    "len(X_train[0]) #every list now has the same lenght"
   ]
  },
  {
   "cell_type": "code",
   "execution_count": 26,
   "metadata": {},
   "outputs": [
    {
     "data": {
      "text/plain": [
       "100"
      ]
     },
     "execution_count": 26,
     "metadata": {},
     "output_type": "execute_result"
    }
   ],
   "source": [
    "len(X_test[0])"
   ]
  },
  {
   "cell_type": "code",
   "execution_count": 27,
   "metadata": {},
   "outputs": [
    {
     "data": {
      "text/plain": [
       "92335"
      ]
     },
     "execution_count": 27,
     "metadata": {},
     "output_type": "execute_result"
    }
   ],
   "source": [
    "vocab_size"
   ]
  },
  {
   "cell_type": "markdown",
   "metadata": {},
   "source": [
    "###### I have used GloVe (Global Vectors) embeddings to create the feature matrix. After loading the GloVe word embeddings, I have created a dictionary that will contain words as keys and their corresponding embedding list as values.\n",
    "\n",
    "###### YOU CAN DOWNLOAD THE GLOVE FILE FROM THE FOLLOWING LINK: https://www.kaggle.com/terenceliu4444/glove6b100dtxt"
   ]
  },
  {
   "cell_type": "code",
   "execution_count": 28,
   "metadata": {},
   "outputs": [],
   "source": [
    "from numpy import array\n",
    "from numpy import asarray\n",
    "from numpy import zeros\n",
    "\n",
    "embeddings_dictionary = dict()\n",
    "glove_file = open('C:/Users/loren/Desktop/LSBU/MachineLearning/ProjectML/glove.6B.100d.txt/glove.6B.100d.txt', encoding=\"utf8\")\n",
    "\n",
    "for line in glove_file:\n",
    "    records = line.split()\n",
    "    word = records[0]\n",
    "    vector_dimensions = asarray(records[1:], dtype='float32')\n",
    "    embeddings_dictionary [word] = vector_dimensions\n",
    "glove_file.close()"
   ]
  },
  {
   "cell_type": "markdown",
   "metadata": {},
   "source": [
    "###### Here, I have created the embedding matrix where each row number will correspond to the index of the word in the corpus. The matrix will have 100 columns where each column will contain the GloVe word embeddings for the words in the corpus."
   ]
  },
  {
   "cell_type": "code",
   "execution_count": 29,
   "metadata": {},
   "outputs": [],
   "source": [
    "embedding_matrix = zeros((vocab_size, 100))\n",
    "\n",
    "for word, index in tokenizer.word_index.items():\n",
    "    embedding_vector = embeddings_dictionary.get(word)\n",
    "    if embedding_vector is not None:\n",
    "         embedding_matrix[index] = embedding_vector"
   ]
  },
  {
   "cell_type": "markdown",
   "metadata": {},
   "source": [
    "## Convolution Neural Network"
   ]
  },
  {
   "cell_type": "markdown",
   "metadata": {},
   "source": [
    "###### Convolution Neural Network is one of the most famous NN, pricipally it is used for the 2D classification, as images. It attempts to discover explicit highlights in a picture in the first layer. In the following layers, the first recognized highlights are combined to frame greater highlights. Along these steps,  the entire picture is detected. CNN is not only used for images, where it performs at its best, but it is also used to work with texts, therefore at one dimension, for that reason we can use 1D convolutional neural networks to extract features from our data."
   ]
  },
  {
   "cell_type": "markdown",
   "metadata": {},
   "source": [
    "###### I have created a Sequential model, followed by an embedding layer. Then I have added: one-dimensional convolutional layer with 100 filters, the kernel size is 2 and the activation function used is relu; a global max pooling layer to reduce feature size and at the end one dense layer with sigmoid activation. To complete the model, I have used the stochastic gradient descent optimizer, that permorms better that the adam optimizer in this NN, with binary_crossentropy as loss function and accuracy as metrics."
   ]
  },
  {
   "cell_type": "code",
   "execution_count": 30,
   "metadata": {},
   "outputs": [
    {
     "name": "stdout",
     "output_type": "stream",
     "text": [
      "WARNING:tensorflow:From C:\\Users\\loren\\AppData\\Local\\Continuum\\anaconda3\\lib\\site-packages\\tensorflow\\python\\ops\\nn_impl.py:180: add_dispatch_support.<locals>.wrapper (from tensorflow.python.ops.array_ops) is deprecated and will be removed in a future version.\n",
      "Instructions for updating:\n",
      "Use tf.where in 2.0, which has the same broadcast rule as np.where\n"
     ]
    }
   ],
   "source": [
    "from keras.layers import Conv1D\n",
    "from keras import optimizers\n",
    "\n",
    "model= Sequential()\n",
    "\n",
    "e = Embedding(vocab_size, 100, weights=[embedding_matrix], input_length=avglen, trainable=False)\n",
    "model.add(e)\n",
    "\n",
    "model.add(Conv1D(filters=100, kernel_size=2, padding='valid', activation='relu', strides=1))\n",
    "model.add(GlobalMaxPooling1D())\n",
    "model.add(Dense(256, activation='relu'))\n",
    "model.add(Dense(1, activation='sigmoid'))\n",
    "model.compile(loss='binary_crossentropy', optimizer='sgd', metrics=['accuracy'])"
   ]
  },
  {
   "cell_type": "code",
   "execution_count": 31,
   "metadata": {},
   "outputs": [
    {
     "name": "stdout",
     "output_type": "stream",
     "text": [
      "Model: \"sequential_1\"\n",
      "_________________________________________________________________\n",
      "Layer (type)                 Output Shape              Param #   \n",
      "=================================================================\n",
      "embedding_1 (Embedding)      (None, 220, 100)          9233500   \n",
      "_________________________________________________________________\n",
      "conv1d_1 (Conv1D)            (None, 219, 100)          20100     \n",
      "_________________________________________________________________\n",
      "global_max_pooling1d_1 (Glob (None, 100)               0         \n",
      "_________________________________________________________________\n",
      "dense_1 (Dense)              (None, 256)               25856     \n",
      "_________________________________________________________________\n",
      "dense_2 (Dense)              (None, 1)                 257       \n",
      "=================================================================\n",
      "Total params: 9,279,713\n",
      "Trainable params: 46,213\n",
      "Non-trainable params: 9,233,500\n",
      "_________________________________________________________________\n",
      "None\n"
     ]
    }
   ],
   "source": [
    "print(model.summary())"
   ]
  },
  {
   "cell_type": "markdown",
   "metadata": {},
   "source": [
    "###### I have used the fit method to train the neural network. The validation_split of 0.2 means that 20% of the training data is used to find the training accuracy of the algorithm. To evaluate the performance of the model, I have just used the test set to the evaluate method of the model."
   ]
  },
  {
   "cell_type": "code",
   "execution_count": 32,
   "metadata": {},
   "outputs": [
    {
     "name": "stdout",
     "output_type": "stream",
     "text": [
      "WARNING:tensorflow:From C:\\Users\\loren\\AppData\\Local\\Continuum\\anaconda3\\lib\\site-packages\\keras\\backend\\tensorflow_backend.py:422: The name tf.global_variables is deprecated. Please use tf.compat.v1.global_variables instead.\n",
      "\n",
      "Train on 32000 samples, validate on 8000 samples\n",
      "Epoch 1/10\n",
      "32000/32000 [==============================] - 19s 605us/step - loss: 0.6900 - accuracy: 0.5317 - val_loss: 0.6779 - val_accuracy: 0.5807\n",
      "Epoch 2/10\n",
      "32000/32000 [==============================] - 18s 566us/step - loss: 0.6684 - accuracy: 0.6171 - val_loss: 0.6584 - val_accuracy: 0.6064\n",
      "Epoch 3/10\n",
      "32000/32000 [==============================] - 18s 571us/step - loss: 0.6416 - accuracy: 0.6643 - val_loss: 0.6212 - val_accuracy: 0.6954\n",
      "Epoch 4/10\n",
      "32000/32000 [==============================] - 18s 552us/step - loss: 0.5994 - accuracy: 0.7075 - val_loss: 0.5666 - val_accuracy: 0.7411\n",
      "Epoch 5/10\n",
      "32000/32000 [==============================] - 18s 557us/step - loss: 0.5334 - accuracy: 0.7550 - val_loss: 0.4958 - val_accuracy: 0.7791\n",
      "Epoch 6/10\n",
      "32000/32000 [==============================] - 18s 552us/step - loss: 0.4702 - accuracy: 0.7853 - val_loss: 0.4424 - val_accuracy: 0.8006\n",
      "Epoch 7/10\n",
      "32000/32000 [==============================] - 18s 566us/step - loss: 0.4359 - accuracy: 0.8001 - val_loss: 0.4207 - val_accuracy: 0.8106\n",
      "Epoch 8/10\n",
      "32000/32000 [==============================] - 18s 553us/step - loss: 0.4162 - accuracy: 0.8101 - val_loss: 0.4291 - val_accuracy: 0.7981\n",
      "Epoch 9/10\n",
      "32000/32000 [==============================] - 18s 552us/step - loss: 0.4021 - accuracy: 0.8186 - val_loss: 0.3944 - val_accuracy: 0.8249\n",
      "Epoch 10/10\n",
      "32000/32000 [==============================] - 18s 550us/step - loss: 0.3922 - accuracy: 0.8226 - val_loss: 0.3837 - val_accuracy: 0.8298\n"
     ]
    }
   ],
   "source": [
    "history = model.fit(X_train1, y_train, batch_size=128, epochs=10, verbose=1, validation_split=0.2)"
   ]
  },
  {
   "cell_type": "code",
   "execution_count": 33,
   "metadata": {},
   "outputs": [
    {
     "name": "stdout",
     "output_type": "stream",
     "text": [
      "10000/10000 [==============================] - 2s 222us/step\n"
     ]
    }
   ],
   "source": [
    "score = model.evaluate(X_test1, y_test, verbose=1)"
   ]
  },
  {
   "cell_type": "code",
   "execution_count": 34,
   "metadata": {},
   "outputs": [
    {
     "name": "stdout",
     "output_type": "stream",
     "text": [
      "Test Accuracy: 0.8245000243186951\n"
     ]
    }
   ],
   "source": [
    "print(\"Test Accuracy:\", score[1])"
   ]
  },
  {
   "cell_type": "code",
   "execution_count": 35,
   "metadata": {},
   "outputs": [
    {
     "data": {
      "image/png": "[encoded data removed]",
      "text/plain": [
       "<Figure size 432x288 with 1 Axes>"
      ]
     },
     "metadata": {
      "needs_background": "light"
     },
     "output_type": "display_data"
    },
    {
     "data": {
      "image/png": "[encoded data removed]",
      "text/plain": [
       "<Figure size 432x288 with 1 Axes>"
      ]
     },
     "metadata": {
      "needs_background": "light"
     },
     "output_type": "display_data"
    }
   ],
   "source": [
    "import matplotlib.pyplot as plt\n",
    "\n",
    "plt.plot(history.history['accuracy'], color='red')\n",
    "plt.plot(history.history['val_accuracy'], color='blue')\n",
    "\n",
    "plt.title('model accuracy')\n",
    "plt.ylabel('accuracy')\n",
    "plt.xlabel('epoch')\n",
    "plt.legend(['train','test'], loc = 'lower right')\n",
    "plt.grid(True)\n",
    "plt.show()\n",
    "\n",
    "plt.plot(history.history['loss'], color='red')\n",
    "plt.plot(history.history['val_loss'], color='blue')\n",
    "\n",
    "plt.title('model loss')\n",
    "plt.ylabel('loss')\n",
    "plt.xlabel('epoch')\n",
    "plt.legend(['train','test'], loc = 'upper right')\n",
    "plt.grid(True)\n",
    "plt.show()"
   ]
  },
  {
   "cell_type": "markdown",
   "metadata": {},
   "source": [
    "## Recurrent Neural Network (LSTM)"
   ]
  },
  {
   "cell_type": "markdown",
   "metadata": {},
   "source": [
    "###### Recurrent neural network is a  of neural networks that performs well with sequence data. In that case, with sentiment analysis, the RNN is the best choice, because text are sequence of words. I have used an LSTM (Long Short Term Memory) which is a variant of RNN, because while the model is training, the information goes in loop and updates too much the RNN model weights. LSTM can solve this problem because it uses gates to control the memorizing process."
   ]
  },
  {
   "cell_type": "markdown",
   "metadata": {},
   "source": [
    "###### I started by initializing a sequential model followed by the creation of the embedding layer. Then, after created a LSTM layer with 128 neurons, I have added one Dense layers, with a sigmoid as activation function, as before, but this time I used the adam optimizer. "
   ]
  },
  {
   "cell_type": "code",
   "execution_count": 36,
   "metadata": {},
   "outputs": [],
   "source": [
    "from keras.layers import LSTM\n",
    "\n",
    "model1= Sequential()\n",
    "e = Embedding(vocab_size, 100, weights=[embedding_matrix], input_length=maxlen, trainable=False)\n",
    "model1.add(e)\n",
    "\n",
    "model1.add(LSTM(128))\n",
    "model1.add(Dense(1, activation='sigmoid'))\n",
    "model1.compile(loss='binary_crossentropy', optimizer='adam', metrics=['acc'])"
   ]
  },
  {
   "cell_type": "code",
   "execution_count": 37,
   "metadata": {
    "scrolled": true
   },
   "outputs": [
    {
     "name": "stdout",
     "output_type": "stream",
     "text": [
      "Model: \"sequential_2\"\n",
      "_________________________________________________________________\n",
      "Layer (type)                 Output Shape              Param #   \n",
      "=================================================================\n",
      "embedding_2 (Embedding)      (None, 100, 100)          9233500   \n",
      "_________________________________________________________________\n",
      "lstm_1 (LSTM)                (None, 128)               117248    \n",
      "_________________________________________________________________\n",
      "dense_3 (Dense)              (None, 1)                 129       \n",
      "=================================================================\n",
      "Total params: 9,350,877\n",
      "Trainable params: 117,377\n",
      "Non-trainable params: 9,233,500\n",
      "_________________________________________________________________\n",
      "None\n"
     ]
    }
   ],
   "source": [
    "print(model1.summary())"
   ]
  },
  {
   "cell_type": "code",
   "execution_count": 38,
   "metadata": {
    "scrolled": true
   },
   "outputs": [
    {
     "name": "stdout",
     "output_type": "stream",
     "text": [
      "Train on 32000 samples, validate on 8000 samples\n",
      "Epoch 1/5\n",
      "32000/32000 [==============================] - 77s 2ms/step - loss: 0.5587 - acc: 0.7120 - val_loss: 0.4652 - val_acc: 0.7810\n",
      "Epoch 2/5\n",
      "32000/32000 [==============================] - 77s 2ms/step - loss: 0.4574 - acc: 0.7887 - val_loss: 0.4813 - val_acc: 0.7914\n",
      "Epoch 3/5\n",
      "32000/32000 [==============================] - 78s 2ms/step - loss: 0.4093 - acc: 0.8126 - val_loss: 0.3830 - val_acc: 0.8301\n",
      "Epoch 4/5\n",
      "32000/32000 [==============================] - 77s 2ms/step - loss: 0.3740 - acc: 0.8316 - val_loss: 0.3659 - val_acc: 0.8381\n",
      "Epoch 5/5\n",
      "32000/32000 [==============================] - 136s 4ms/step - loss: 0.3498 - acc: 0.8442 - val_loss: 0.3444 - val_acc: 0.8503\n"
     ]
    }
   ],
   "source": [
    "history1 = model1.fit(X_train, y_train, batch_size=128, epochs=5, verbose=1, validation_split=0.2)"
   ]
  },
  {
   "cell_type": "code",
   "execution_count": 39,
   "metadata": {},
   "outputs": [
    {
     "name": "stdout",
     "output_type": "stream",
     "text": [
      "10000/10000 [==============================] - 12s 1ms/step\n"
     ]
    }
   ],
   "source": [
    "score = model1.evaluate(X_test, y_test, verbose=1)"
   ]
  },
  {
   "cell_type": "code",
   "execution_count": 40,
   "metadata": {},
   "outputs": [
    {
     "name": "stdout",
     "output_type": "stream",
     "text": [
      "Test Accuracy: 0.8463000059127808\n"
     ]
    }
   ],
   "source": [
    "print(\"Test Accuracy:\", score[1])"
   ]
  },
  {
   "cell_type": "markdown",
   "metadata": {},
   "source": [
    "###### The test accuracy is better than in the CNN"
   ]
  },
  {
   "cell_type": "code",
   "execution_count": 41,
   "metadata": {},
   "outputs": [
    {
     "data": {
      "image/png": "[encoded data removed]",
      "text/plain": [
       "<Figure size 432x288 with 1 Axes>"
      ]
     },
     "metadata": {
      "needs_background": "light"
     },
     "output_type": "display_data"
    },
    {
     "data": {
      "image/png": "[encoded data removed]",
      "text/plain": [
       "<Figure size 432x288 with 1 Axes>"
      ]
     },
     "metadata": {
      "needs_background": "light"
     },
     "output_type": "display_data"
    }
   ],
   "source": [
    "plt.plot(history1.history['acc'], color='green')\n",
    "plt.plot(history1.history['val_acc'], color='gold')\n",
    "\n",
    "plt.title('model accuracy')\n",
    "plt.ylabel('accuracy')\n",
    "plt.xlabel('epoch')\n",
    "plt.legend(['train','test'], loc='lower right')\n",
    "plt.grid(True)\n",
    "plt.show()\n",
    "\n",
    "plt.plot(history1.history['loss'], color='green')\n",
    "plt.plot(history1.history['val_loss'], color='gold')\n",
    "\n",
    "plt.title('model loss')\n",
    "plt.ylabel('loss')\n",
    "plt.xlabel('epoch')\n",
    "plt.legend(['train','test'], loc='upper right')\n",
    "plt.grid(True)\n",
    "plt.show()"
   ]
  },
  {
   "cell_type": "markdown",
   "metadata": {},
   "source": [
    "###### From the results we can undesrtand that the LSTM model perform better than the CNN model, in fact, the test acuracy for the convolution network is around 80%, instead the accuracy for the short term memory is about 85%, furthermore to achieve that result in the first case I had to use double epochs. The drawback of the LSTM model for sure is the long time, in confront of CNN, that it takes for each iteration."
   ]
  },
  {
   "cell_type": "markdown",
   "metadata": {},
   "source": [
    "###### CNN  more useful when the input has grid structure like in images, videos, etc. RNN is better for sequential input like speech, text, etc. LSTM are even better than regular RNN as they can consider long term dependencies between important events over indefinite length."
   ]
  },
  {
   "cell_type": "markdown",
   "metadata": {},
   "source": [
    "## Prediction on single instance"
   ]
  },
  {
   "cell_type": "markdown",
   "metadata": {},
   "source": [
    "###### To predict the sentiment of this review, I have converted this review into numeric form, using the tokenizer (created in word embedding section). The text_to_sequences method convert the sentence into its numeric counter part. Then I used pad_sequences function as before and finally the prediction."
   ]
  },
  {
   "cell_type": "code",
   "execution_count": 42,
   "metadata": {},
   "outputs": [
    {
     "name": "stdout",
     "output_type": "stream",
     "text": [
      "Stephen Hawkings is genius He is the king of geniuses Watching this movie makes me feel dumb But it a great movie Not highly entertaining but very very intriguing The movie centers around wheelchair bound Stephen Hawkings man who makes Einstein look average and his theories and scientific discoveries about the universe time the galaxy and black holes Everyone at sometime or another during really intense high comes to moment when they think they got the universe and the cosmos figured out and they swear as soon as they sober up they ll write it all down Well here is man who actually held that feeling for more then six hours Here is man who despite suffering from Lou Gehrig disease has become the greatest mind the world has yet seen Watch this and listen in on how he has formulated theories on black holes Awesome You won be the same after you see it \n"
     ]
    },
    {
     "data": {
      "text/plain": [
       "1"
      ]
     },
     "execution_count": 42,
     "metadata": {},
     "output_type": "execute_result"
    }
   ],
   "source": [
    "#LSTM prediction\n",
    "\n",
    "#positive review\n",
    "\n",
    "instance = X[80]\n",
    "print(instance)\n",
    "\n",
    "y[80]"
   ]
  },
  {
   "cell_type": "code",
   "execution_count": 43,
   "metadata": {},
   "outputs": [
    {
     "name": "stdout",
     "output_type": "stream",
     "text": [
      "Positive Review\n",
      "[[0.977736]]\n"
     ]
    }
   ],
   "source": [
    "#negative review\n",
    "\n",
    "instance = tokenizer.texts_to_sequences(instance)\n",
    "flat_list = []\n",
    "\n",
    "for sublist in instance:\n",
    "    for item in sublist:\n",
    "        flat_list.append(item)\n",
    "        \n",
    "flat_list = [flat_list]\n",
    "instance = pad_sequences(flat_list, padding='post', maxlen=maxlen)\n",
    "p = model1.predict(instance)\n",
    "if p < 0.5:\n",
    "    print ('Negative Review')    \n",
    "else:\n",
    "    print('Positive Review')\n",
    "    \n",
    "print(p)"
   ]
  },
  {
   "cell_type": "code",
   "execution_count": 44,
   "metadata": {},
   "outputs": [
    {
     "name": "stdout",
     "output_type": "stream",
     "text": [
      "Phil the Alien is one of those quirky films where the humour is based around the oddness of everything rather than actual punchlines At first it was very odd and pretty funny but as the movie progressed didn find the jokes or oddness funny anymore Its low budget film thats never problem in itself there were some pretty interesting characters but eventually just lost interest imagine this film would appeal to stoner who is currently partaking For something similar but better try Brother from another planet \n"
     ]
    },
    {
     "data": {
      "text/plain": [
       "0"
      ]
     },
     "execution_count": 44,
     "metadata": {},
     "output_type": "execute_result"
    }
   ],
   "source": [
    "instance1 = X[10]\n",
    "print(instance1)\n",
    "\n",
    "y[10]"
   ]
  },
  {
   "cell_type": "code",
   "execution_count": 45,
   "metadata": {},
   "outputs": [
    {
     "name": "stdout",
     "output_type": "stream",
     "text": [
      "Negative Review\n",
      "[[0.24995346]]\n"
     ]
    }
   ],
   "source": [
    "instance1 = tokenizer.texts_to_sequences(instance1)\n",
    "flat_list = []\n",
    "\n",
    "for sublist in instance1:\n",
    "    for item in sublist:\n",
    "        flat_list.append(item)\n",
    "        \n",
    "flat_list = [flat_list]\n",
    "instance1 = pad_sequences(flat_list, padding='post', maxlen=maxlen)\n",
    "p = model1.predict(instance1)\n",
    "if p < 0.5:\n",
    "    print ('Negative Review')    \n",
    "else:\n",
    "    print('Positive Review')\n",
    "    \n",
    "print(p)"
   ]
  },
  {
   "cell_type": "markdown",
   "metadata": {},
   "source": [
    "###### Before I have mapped the positive outputs to 1 and the negative outputs to 0. However, the sigmoid function predicts floating value between 0 and 1. If the value is less than 0.5, the sentiment is considered negative where as if the value is greater than 0.5, the sentiment is considered as positive."
   ]
  },
  {
   "cell_type": "markdown",
   "metadata": {},
   "source": [
    "###### Happens that also my LSTM model predicts in the wrong way the review, this is due to the fact that should be improve more."
   ]
  },
  {
   "cell_type": "markdown",
   "metadata": {},
   "source": [
    "## Differences between TextBlob and LSTM"
   ]
  },
  {
   "cell_type": "markdown",
   "metadata": {},
   "source": [
    "###### Another easy way to understand the sentiment of a test can be the following. It is easier and faster to implement, and it uses a pre-trained library of Python, TextBlob, in fact, in that way there is not need to create a NN."
   ]
  },
  {
   "cell_type": "code",
   "execution_count": 46,
   "metadata": {},
   "outputs": [
    {
     "name": "stdout",
     "output_type": "stream",
     "text": [
      "Requirement already satisfied: textblob in c:\\users\\loren\\appdata\\local\\continuum\\anaconda3\\lib\\site-packages (0.15.3)\n",
      "Requirement already satisfied: nltk>=3.1 in c:\\users\\loren\\appdata\\local\\continuum\\anaconda3\\lib\\site-packages (from textblob) (3.3)\n",
      "Requirement already satisfied: six in c:\\users\\loren\\appdata\\local\\continuum\\anaconda3\\lib\\site-packages (from nltk>=3.1->textblob) (1.12.0)\n",
      "Note: you may need to restart the kernel to use updated packages.\n"
     ]
    },
    {
     "name": "stderr",
     "output_type": "stream",
     "text": [
      "WARNING: You are using pip version 19.3.1; however, version 20.0.2 is available.\n",
      "You should consider upgrading via the 'python -m pip install --upgrade pip' command.\n"
     ]
    }
   ],
   "source": [
    "pip install textblob"
   ]
  },
  {
   "cell_type": "markdown",
   "metadata": {},
   "source": [
    "###### TextBlob is a Python library for processing textual data. It provides a simple API for diving into common natural language processing (NLP) tasks."
   ]
  },
  {
   "cell_type": "code",
   "execution_count": 47,
   "metadata": {},
   "outputs": [],
   "source": [
    "from textblob import TextBlob \n",
    "import nltk"
   ]
  },
  {
   "cell_type": "markdown",
   "metadata": {},
   "source": [
    "###### Text1 below is the same review used before for the negative sentence (X[10])"
   ]
  },
  {
   "cell_type": "code",
   "execution_count": 48,
   "metadata": {},
   "outputs": [],
   "source": [
    "text1='Phil the Alien is one of those quirky films where the humour is based around the oddness of everything rather than actual punchlines At first it was very odd and pretty funny but as the movie progressed didn find the jokes or oddness funny anymore Its low budget film thats never problem in itself there were some pretty interesting characters but eventually just lost interest imagine this film would appeal to stoner who is currently partaking For something similar but better try Brother from another planet '"
   ]
  },
  {
   "cell_type": "code",
   "execution_count": 49,
   "metadata": {},
   "outputs": [
    {
     "name": "stdout",
     "output_type": "stream",
     "text": [
      "The text is Positive\n",
      "0.12738095238095237\n"
     ]
    }
   ],
   "source": [
    "obj1=TextBlob(text1)\n",
    "sentiment1=obj1.sentiment.polarity\n",
    "\n",
    "if sentiment1==0:\n",
    "    print('The text is Neutral')   \n",
    "elif sentiment1<0:\n",
    "    print('The text is Negative')\n",
    "else:\n",
    "    print('The text is Positive')\n",
    "    \n",
    "print(sentiment1)"
   ]
  },
  {
   "cell_type": "markdown",
   "metadata": {},
   "source": [
    "###### How we can see, TextBlob is not able to understand the polarity of big sentences, as the review that I have used, in fact, there is a difference with my LSTM model that classify that review as negative. Reading the review you can understand that TextBlob is in error. However, doing more test on it I have noticed how it is able to recognize short phrases clearly negative or positive, as the following."
   ]
  },
  {
   "cell_type": "code",
   "execution_count": 50,
   "metadata": {},
   "outputs": [
    {
     "name": "stdout",
     "output_type": "stream",
     "text": [
      "The text is Negative\n",
      "-0.9\n"
     ]
    }
   ],
   "source": [
    "test= TextBlob('I hate at all that place, it is terrible!')\n",
    "sentiment=test.sentiment.polarity\n",
    "\n",
    "if sentiment==0:\n",
    "    print('The text is Neutral')    \n",
    "elif sentiment<0:\n",
    "    print('The text is Negative')    \n",
    "else:\n",
    "    print('The text is Positive')\n",
    "    \n",
    "print(sentiment)\n"
   ]
  },
  {
   "cell_type": "markdown",
   "metadata": {},
   "source": [
    "###### So we can use TextBlob for checking short sentences, instead to do a deeper study of the data, use a good NN is preferable."
   ]
  }
 ],
 "metadata": {
  "kernelspec": {
   "display_name": "Python 3",
   "language": "python",
   "name": "python3"
  },
  "language_info": {
   "codemirror_mode": {
    "name": "ipython",
    "version": 3
   },
   "file_extension": ".py",
   "mimetype": "text/x-python",
   "name": "python",
   "nbconvert_exporter": "python",
   "pygments_lexer": "ipython3",
   "version": "3.7.4"
  }
 },
 "nbformat": 4,
 "nbformat_minor": 2
}
